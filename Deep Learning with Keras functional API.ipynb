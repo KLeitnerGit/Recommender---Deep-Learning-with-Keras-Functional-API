{
 "cells": [
  {
   "cell_type": "markdown",
   "id": "c9712b7b",
   "metadata": {},
   "source": [
    "# Deep Learning with Keras functional API"
   ]
  },
  {
   "cell_type": "markdown",
   "id": "905b262f",
   "metadata": {
    "pycharm": {
     "name": "#%% md\n"
    }
   },
   "source": [
    "## Load packages"
   ]
  },
  {
   "cell_type": "code",
   "execution_count": 3,
   "id": "822b3858",
   "metadata": {},
   "outputs": [],
   "source": [
    "# libaries to handle warnings\n",
    "import os\n",
    "os.environ['MKL_NUM_THREADS'] = '1' #To avoid multithreading.\n",
    "os.environ['OPENBLAS_NUM_THREADS'] = '1'\n",
    "\n",
    "import warnings\n",
    "warnings.filterwarnings(\"ignore\")\n",
    "warnings.simplefilter(action='ignore', category=FutureWarning)\n",
    "\n",
    "# import libraries for reading data, exploring and plotting\n",
    "import tensorflow as tf\n",
    "import numpy as np\n",
    "import pandas as pd\n",
    "import seaborn as sns\n",
    "import matplotlib.pyplot as plt\n",
    "import visualkeras\n",
    "\n",
    "# library for train test split\n",
    "from sklearn.model_selection import train_test_split\n",
    "\n",
    "# Modeling \n",
    "import tensorflow\n",
    "from tensorflow import keras\n",
    "from tensorflow.keras import models, layers, utils\n",
    "from tensorflow.keras.callbacks import EarlyStopping\n",
    "from tensorflow.keras.models import Sequential\n",
    "from tensorflow.keras.layers import Embedding, GlobalAveragePooling1D, Dense, Dropout, LSTM, Bidirectional\n",
    "from tensorflow.keras import models, layers, utils\n",
    "import tensorflow_recommenders as tfrs\n",
    "from sklearn.metrics import classification_report, confusion_matrix, accuracy_score\n",
    "from keras.utils.vis_utils import plot_model\n",
    "from keras.layers import Dense, Conv2D, MaxPooling2D, Flatten, Activation, Input, Reshape, Concatenate\n",
    "from keras import layers \n",
    "from keras.models import Model"
   ]
  },
  {
   "cell_type": "markdown",
   "id": "c9ed02ca",
   "metadata": {},
   "source": [
    "## Load Data & Preprocess - Create a subset"
   ]
  },
  {
   "cell_type": "markdown",
   "id": "c542762b",
   "metadata": {},
   "source": [
    "As the original dataset is very large with 7.5 Mill entries a subset of 1% due to limited computer power is used for further modeling."
   ]
  },
  {
   "cell_type": "code",
   "execution_count": 4,
   "id": "2d2d9e28",
   "metadata": {},
   "outputs": [],
   "source": [
    "#load training\n",
    "train = pd.read_csv(\"train.csv\")\n"
   ]
  },
  {
   "cell_type": "code",
   "execution_count": 5,
   "id": "3d40cc3f",
   "metadata": {
    "pycharm": {
     "name": "#%%\n"
    }
   },
   "outputs": [
    {
     "name": "stdout",
     "output_type": "stream",
     "text": [
      "<class 'pandas.core.frame.DataFrame'>\n",
      "Int64Index: 75588 entries, 2831496 to 7076603\n",
      "Data columns (total 15 columns):\n",
      " #   Column           Non-Null Count  Dtype\n",
      "---  ------           --------------  -----\n",
      " 0   genre_id         75588 non-null  int64\n",
      " 1   ts_listen        75588 non-null  int64\n",
      " 2   media_id         75588 non-null  int64\n",
      " 3   album_id         75588 non-null  int64\n",
      " 4   context_type     75588 non-null  int64\n",
      " 5   release_date     75588 non-null  int64\n",
      " 6   platform_name    75588 non-null  int64\n",
      " 7   platform_family  75588 non-null  int64\n",
      " 8   media_duration   75588 non-null  int64\n",
      " 9   listen_type      75588 non-null  int64\n",
      " 10  user_gender      75588 non-null  int64\n",
      " 11  user_id          75588 non-null  int64\n",
      " 12  artist_id        75588 non-null  int64\n",
      " 13  user_age         75588 non-null  int64\n",
      " 14  is_listened      75588 non-null  int64\n",
      "dtypes: int64(15)\n",
      "memory usage: 9.2 MB\n"
     ]
    }
   ],
   "source": [
    "# subset\n",
    "train_p = train.sample(frac=0.01)\n",
    "train_p.info()"
   ]
  },
  {
   "cell_type": "code",
   "execution_count": 6,
   "id": "9c9a9ba2",
   "metadata": {},
   "outputs": [],
   "source": [
    "df1 = pd.DataFrame(train_p, columns=['user_id', 'media_id', \"genre_id\", \"context_type\", \"is_listened\"])"
   ]
  },
  {
   "cell_type": "code",
   "execution_count": 7,
   "id": "063b53ac",
   "metadata": {},
   "outputs": [
    {
     "data": {
      "text/plain": [
       "user_id         int64\n",
       "media_id        int64\n",
       "genre_id        int64\n",
       "context_type    int64\n",
       "is_listened     int64\n",
       "dtype: object"
      ]
     },
     "execution_count": 7,
     "metadata": {},
     "output_type": "execute_result"
    }
   ],
   "source": [
    "#df1 = df1.sample(frac=1).reset_index(drop=True)\n",
    "df1.dtypes"
   ]
  },
  {
   "cell_type": "code",
   "execution_count": 14,
   "id": "c2d00fd5",
   "metadata": {},
   "outputs": [
    {
     "data": {
      "text/html": [
       "<div><div id=54543105-3b6a-4c79-8151-e87ff38b4bbf style=\"display:none; background-color:#9D6CFF; color:white; width:200px; height:30px; padding-left:5px; border-radius:4px; flex-direction:row; justify-content:space-around; align-items:center;\" onmouseover=\"this.style.backgroundColor='#BA9BF8'\" onmouseout=\"this.style.backgroundColor='#9D6CFF'\" onclick=\"window.commands?.execute('create-mitosheet-from-dataframe-output');\">See Full Dataframe in Mito</div> <script> if (window.commands?.hasCommand('create-mitosheet-from-dataframe-output')) document.getElementById('54543105-3b6a-4c79-8151-e87ff38b4bbf').style.display = 'flex' </script> <table border=\"1\" class=\"dataframe\">\n",
       "  <thead>\n",
       "    <tr style=\"text-align: right;\">\n",
       "      <th></th>\n",
       "      <th>user_id</th>\n",
       "      <th>media_id</th>\n",
       "      <th>genre_id</th>\n",
       "      <th>context_type</th>\n",
       "      <th>is_listened</th>\n",
       "    </tr>\n",
       "  </thead>\n",
       "  <tbody>\n",
       "    <tr>\n",
       "      <th>320687</th>\n",
       "      <td>2035</td>\n",
       "      <td>4828149</td>\n",
       "      <td>7</td>\n",
       "      <td>3</td>\n",
       "      <td>1</td>\n",
       "    </tr>\n",
       "    <tr>\n",
       "      <th>6124982</th>\n",
       "      <td>7445</td>\n",
       "      <td>122171888</td>\n",
       "      <td>0</td>\n",
       "      <td>0</td>\n",
       "      <td>1</td>\n",
       "    </tr>\n",
       "    <tr>\n",
       "      <th>6206841</th>\n",
       "      <td>5938</td>\n",
       "      <td>133165774</td>\n",
       "      <td>0</td>\n",
       "      <td>2</td>\n",
       "      <td>1</td>\n",
       "    </tr>\n",
       "    <tr>\n",
       "      <th>2263621</th>\n",
       "      <td>589</td>\n",
       "      <td>135092314</td>\n",
       "      <td>0</td>\n",
       "      <td>1</td>\n",
       "      <td>0</td>\n",
       "    </tr>\n",
       "    <tr>\n",
       "      <th>706436</th>\n",
       "      <td>2128</td>\n",
       "      <td>3134033</td>\n",
       "      <td>10</td>\n",
       "      <td>0</td>\n",
       "      <td>1</td>\n",
       "    </tr>\n",
       "  </tbody>\n",
       "</table></div>"
      ],
      "text/plain": [
       "         user_id   media_id  genre_id  context_type  is_listened\n",
       "320687      2035    4828149         7             3            1\n",
       "6124982     7445  122171888         0             0            1\n",
       "6206841     5938  133165774         0             2            1\n",
       "2263621      589  135092314         0             1            0\n",
       "706436      2128    3134033        10             0            1"
      ]
     },
     "execution_count": 14,
     "metadata": {},
     "output_type": "execute_result"
    }
   ],
   "source": [
    "df1.head()"
   ]
  },
  {
   "cell_type": "code",
   "execution_count": 7,
   "id": "20b72efe",
   "metadata": {},
   "outputs": [
    {
     "name": "stdout",
     "output_type": "stream",
     "text": [
      "<class 'pandas.core.frame.DataFrame'>\n",
      "Int64Index: 75588 entries, 2138115 to 1498162\n",
      "Data columns (total 5 columns):\n",
      " #   Column        Non-Null Count  Dtype\n",
      "---  ------        --------------  -----\n",
      " 0   user_id       75588 non-null  int64\n",
      " 1   media_id      75588 non-null  int64\n",
      " 2   genre_id      75588 non-null  int64\n",
      " 3   context_type  75588 non-null  int64\n",
      " 4   is_listened   75588 non-null  int64\n",
      "dtypes: int64(5)\n",
      "memory usage: 3.5 MB\n"
     ]
    }
   ],
   "source": [
    "df1.info()"
   ]
  },
  {
   "cell_type": "markdown",
   "id": "fd293fee",
   "metadata": {},
   "source": [
    "## Inspect target variable"
   ]
  },
  {
   "cell_type": "markdown",
   "id": "610e5b2b",
   "metadata": {},
   "source": [
    "The target variable is unbalanced. Around 2/3 of the tracks have been \"listened\" - meaning the user has listened to more than 30 seconds of it (is_listened =1). The remaing 1/3 tracks have not been listened by the users, as they pressd the skip button to change the song before 30 seconds (is_listened = 0). Hence, we have to deal with binary implicit feedback.\n"
   ]
  },
  {
   "cell_type": "code",
   "execution_count": 10,
   "id": "c3b4051e",
   "metadata": {},
   "outputs": [
    {
     "data": {
      "text/plain": [
       "1    51514\n",
       "0    24074\n",
       "Name: is_listened, dtype: int64"
      ]
     },
     "execution_count": 10,
     "metadata": {},
     "output_type": "execute_result"
    }
   ],
   "source": [
    "df1[\"is_listened\"].value_counts()\n"
   ]
  },
  {
   "cell_type": "code",
   "execution_count": 13,
   "id": "ddb1ddb7",
   "metadata": {},
   "outputs": [
    {
     "data": {
      "image/png": "[encoded data removed]",
      "text/plain": [
       "<Figure size 432x288 with 1 Axes>"
      ]
     },
     "metadata": {
      "needs_background": "light"
     },
     "output_type": "display_data"
    }
   ],
   "source": [
    "#df1[\"is_listened\"].value_counts().plot()\n",
    "sns.countplot(x='is_listened', data=df1)\n",
    "plt.show()"
   ]
  },
  {
   "cell_type": "markdown",
   "id": "09cc96b2",
   "metadata": {},
   "source": [
    "## User and Media ID"
   ]
  },
  {
   "cell_type": "markdown",
   "id": "2afc3f0e",
   "metadata": {},
   "source": [
    "From the plot below one can see, that the distribution of user_id is skewed, which means that only a few users use the Deezer App often and remaining users once in a while. Further, the subset data can be regarded rather as sparse: 14378 distinct users have been provided with 30359 tracks, from which 2/3 have been listened longer than 30 seconds.As in the next step a multilayered Neural Network model is created with to embedding layers by using Keras functional API, an encoding of data types has not necessarily to be implemented.  \n"
   ]
  },
  {
   "cell_type": "code",
   "execution_count": 32,
   "id": "98167f2a",
   "metadata": {},
   "outputs": [
    {
     "data": {
      "image/png": "[encoded data removed]",
      "text/plain": [
       "<Figure size 432x288 with 1 Axes>"
      ]
     },
     "metadata": {
      "needs_background": "light"
     },
     "output_type": "display_data"
    }
   ],
   "source": [
    "sns.histplot(df1, x=\"user_id\").set(title='Histogram - UserID')\n",
    "plt.show()"
   ]
  },
  {
   "cell_type": "code",
   "execution_count": 59,
   "id": "c4a9589f",
   "metadata": {},
   "outputs": [
    {
     "name": "stdout",
     "output_type": "stream",
     "text": [
      "14378 distinct users have been provided with 30359 tracks, from which 2/3 have been listened longer than 30 seconds\n"
     ]
    }
   ],
   "source": [
    "n_media_id = len(df1.media_id.unique())\n",
    "n_user_id = len(df1.user_id.unique())\n",
    "print(f'{n_user_id} distinct users have been provided with {n_media_id} tracks, from which 2/3 have been listened longer than 30 seconds')"
   ]
  },
  {
   "cell_type": "code",
   "execution_count": 60,
   "id": "ba8fff1c",
   "metadata": {},
   "outputs": [
    {
     "data": {
      "text/html": [
       "<div><div id=e122cf4d-7d8b-45c7-b14d-c78b1243bb39 style=\"display:none; background-color:#9D6CFF; color:white; width:200px; height:30px; padding-left:5px; border-radius:4px; flex-direction:row; justify-content:space-around; align-items:center;\" onmouseover=\"this.style.backgroundColor='#BA9BF8'\" onmouseout=\"this.style.backgroundColor='#9D6CFF'\" onclick=\"window.commands?.execute('create-mitosheet-from-dataframe-output');\">See Full Dataframe in Mito</div> <script> if (window.commands?.hasCommand('create-mitosheet-from-dataframe-output')) document.getElementById('e122cf4d-7d8b-45c7-b14d-c78b1243bb39').style.display = 'flex' </script> <table border=\"1\" class=\"dataframe\">\n",
       "  <thead>\n",
       "    <tr style=\"text-align: right;\">\n",
       "      <th></th>\n",
       "      <th>is_listened</th>\n",
       "    </tr>\n",
       "    <tr>\n",
       "      <th>media_id</th>\n",
       "      <th></th>\n",
       "    </tr>\n",
       "  </thead>\n",
       "  <tbody>\n",
       "    <tr>\n",
       "      <th>133165774</th>\n",
       "      <td>136</td>\n",
       "    </tr>\n",
       "    <tr>\n",
       "      <th>132434634</th>\n",
       "      <td>125</td>\n",
       "    </tr>\n",
       "    <tr>\n",
       "      <th>132123626</th>\n",
       "      <td>119</td>\n",
       "    </tr>\n",
       "    <tr>\n",
       "      <th>132123604</th>\n",
       "      <td>116</td>\n",
       "    </tr>\n",
       "    <tr>\n",
       "      <th>132123630</th>\n",
       "      <td>106</td>\n",
       "    </tr>\n",
       "    <tr>\n",
       "      <th>132614858</th>\n",
       "      <td>94</td>\n",
       "    </tr>\n",
       "    <tr>\n",
       "      <th>134748108</th>\n",
       "      <td>90</td>\n",
       "    </tr>\n",
       "    <tr>\n",
       "      <th>131576046</th>\n",
       "      <td>90</td>\n",
       "    </tr>\n",
       "    <tr>\n",
       "      <th>132123606</th>\n",
       "      <td>84</td>\n",
       "    </tr>\n",
       "    <tr>\n",
       "      <th>129632340</th>\n",
       "      <td>83</td>\n",
       "    </tr>\n",
       "  </tbody>\n",
       "</table></div>"
      ],
      "text/plain": [
       "           is_listened\n",
       "media_id              \n",
       "133165774          136\n",
       "132434634          125\n",
       "132123626          119\n",
       "132123604          116\n",
       "132123630          106\n",
       "132614858           94\n",
       "134748108           90\n",
       "131576046           90\n",
       "132123606           84\n",
       "129632340           83"
      ]
     },
     "execution_count": 60,
     "metadata": {},
     "output_type": "execute_result"
    }
   ],
   "source": [
    "#Which media_id is listened the most often?\n",
    "ratings = pd.DataFrame(df1.groupby('media_id')['is_listened'].sum().sort_values(ascending=False))\n",
    "ratings.head(10)"
   ]
  },
  {
   "cell_type": "code",
   "execution_count": 61,
   "id": "3ee11880",
   "metadata": {},
   "outputs": [],
   "source": [
    "# User & tracks grouped by count number of times a song has been listened to by a user\n",
    "overview = df1.groupby([\"user_id\", \"media_id\"])[\"is_listened\"].sum().to_frame(\"listen_count\").reset_index()"
   ]
  },
  {
   "cell_type": "code",
   "execution_count": 62,
   "id": "99112ff5",
   "metadata": {},
   "outputs": [
    {
     "name": "stdout",
     "output_type": "stream",
     "text": [
      "       user_id   media_id  listen_count\n",
      "37718     2861   78240216             0\n",
      "24811     1428  131071052             0\n",
      "19132      959     882290             0\n",
      "34152     2406  128878480             0\n",
      "60265     7480  131576046             0\n"
     ]
    }
   ],
   "source": [
    "# Below own can see the relationship between users and tracks that have been listened less than 30 seconds\n",
    "print(overview[overview.listen_count == 0].sample(5))"
   ]
  },
  {
   "cell_type": "code",
   "execution_count": 63,
   "id": "67c30029",
   "metadata": {},
   "outputs": [
    {
     "name": "stdout",
     "output_type": "stream",
     "text": [
      "       user_id   media_id  listen_count\n",
      "18472      911  135577766             1\n",
      "21324     1127   19271771             1\n",
      "50693     5013   14193948             1\n",
      "34396     2436    2659940             1\n",
      "70178    12441  102934830             1\n"
     ]
    }
   ],
   "source": [
    "# Below own can see the relationship between users and tracks that have been listened more than 30 seconds\n",
    "print(overview[overview.listen_count >= 1].sample(5))"
   ]
  },
  {
   "cell_type": "markdown",
   "id": "7f29c7de",
   "metadata": {},
   "source": [
    "## Context type"
   ]
  },
  {
   "cell_type": "markdown",
   "id": "e949676a",
   "metadata": {},
   "source": [
    "The context_type reflects where the song was listened. For example it shows if a song was listened on a playlist or on an album.  This variable is by its natura a highly skewed categorical variable that needs precprocessing. As a functional API with embeeding layers with Keras is approached, for the baseline model a processing is not done, but can if implmented clearly positively inform the model outcome. "
   ]
  },
  {
   "cell_type": "code",
   "execution_count": 9,
   "id": "f3b7948c",
   "metadata": {},
   "outputs": [
    {
     "data": {
      "text/plain": [
       "60"
      ]
     },
     "execution_count": 9,
     "metadata": {},
     "output_type": "execute_result"
    }
   ],
   "source": [
    "len(df1.context_type.unique())"
   ]
  },
  {
   "cell_type": "code",
   "execution_count": 9,
   "id": "7822b5f7",
   "metadata": {},
   "outputs": [
    {
     "data": {
      "image/png": "[encoded data removed]",
      "text/plain": [
       "<Figure size 1080x576 with 1 Axes>"
      ]
     },
     "metadata": {
      "needs_background": "light"
     },
     "output_type": "display_data"
    }
   ],
   "source": [
    "plt.figure(figsize=(15,8))\n",
    "sns.countplot(x='context_type', data=df1)\n",
    "plt.show()"
   ]
  },
  {
   "cell_type": "code",
   "execution_count": 11,
   "id": "1c966df8",
   "metadata": {},
   "outputs": [
    {
     "data": {
      "text/plain": [
       "0     32124\n",
       "1     16163\n",
       "2     10534\n",
       "3      4396\n",
       "4      2350\n",
       "5      1687\n",
       "6       958\n",
       "7       934\n",
       "8       785\n",
       "9       728\n",
       "10      718\n",
       "11      651\n",
       "12      564\n",
       "13      552\n",
       "15      221\n",
       "17      197\n",
       "18      184\n",
       "16      183\n",
       "14      181\n",
       "19      169\n",
       "20      158\n",
       "22      157\n",
       "21      154\n",
       "23      135\n",
       "24      102\n",
       "25       99\n",
       "26       71\n",
       "28       41\n",
       "27       39\n",
       "29       39\n",
       "31       36\n",
       "30       30\n",
       "32       28\n",
       "33       26\n",
       "38       23\n",
       "34       22\n",
       "35       18\n",
       "37       16\n",
       "39       16\n",
       "36       13\n",
       "40       12\n",
       "42       11\n",
       "41       10\n",
       "43        8\n",
       "49        6\n",
       "46        5\n",
       "48        5\n",
       "45        4\n",
       "50        4\n",
       "62        4\n",
       "47        3\n",
       "44        2\n",
       "51        2\n",
       "52        2\n",
       "54        2\n",
       "55        2\n",
       "61        1\n",
       "68        1\n",
       "57        1\n",
       "64        1\n",
       "Name: context_type, dtype: int64"
      ]
     },
     "execution_count": 11,
     "metadata": {},
     "output_type": "execute_result"
    }
   ],
   "source": [
    "df1['context_type'].value_counts()"
   ]
  },
  {
   "cell_type": "markdown",
   "id": "23dbcb8f",
   "metadata": {},
   "source": [
    "## Split data for training and testing"
   ]
  },
  {
   "cell_type": "markdown",
   "id": "6f020694",
   "metadata": {},
   "source": [
    "The data is splittet into 80% for training and 20% for testing."
   ]
  },
  {
   "cell_type": "code",
   "execution_count": 8,
   "id": "b586cdd3",
   "metadata": {},
   "outputs": [],
   "source": [
    "df = df1\n",
    "from sklearn.model_selection import train_test_split\n",
    "train, test = train_test_split(df, test_size=0.2, random_state=42)"
   ]
  },
  {
   "cell_type": "markdown",
   "id": "ca3abe30",
   "metadata": {},
   "source": [
    "# Models: Deep Learning with Keras functional API "
   ]
  },
  {
   "cell_type": "markdown",
   "id": "3b31d845",
   "metadata": {},
   "source": [
    "## Baseline Model 1: Collaborative Filtering "
   ]
  },
  {
   "cell_type": "markdown",
   "id": "c2739ba3",
   "metadata": {},
   "source": [
    "For modeling this approached use Keras functional API, that is is a way to create models that are more flexible than the sequential API. The functional API can handle models with non-linear topology, shared layers, and even multiple inputs or outputs - it provides is a way to build graphs of layers. This multi-layer capability of Keras functional API are fruitful for recommender systems as it provides an easy way to build even a recommender model with mixed data types (e.g. combing categorical, numerical, and other data types). \n",
    "\n",
    "Another benefit of the functional API in contrast to the sequential API is that one does not necessarily have to encode the input variables. The difference between the two is the fact that an encoder is a predetermined function associating a vector to each data row, while embedding vectors are low dimensional and learned. A neural network learns how to locate objects in an embedding space, placing similar entities close to each other. With its embedding layers this is similar to the matrix factorization, but instead of using a fixed dot-product as recommendation dense layers in the network are used in order to find good combinations. In this baseline model 1 just two embedding layers for the tracks and the user are used. The second model include context_type as an addional variable with an hyprid approach. \n",
    "\n",
    "With more computer power additional layers could be added and hyperparameter tuninng performed in order to improve the models. "
   ]
  },
  {
   "cell_type": "code",
   "execution_count": 9,
   "id": "41738cdf",
   "metadata": {},
   "outputs": [
    {
     "name": "stdout",
     "output_type": "stream",
     "text": [
      "Model: \"Model_01\"\n",
      "________________________________________________________________________________________\n",
      "Layer (type)                 Output Shape       Param #   Connected to                  \n",
      "========================================================================================\n",
      "user_id (InputLayer)         [(None, 1)]        0                                       \n",
      "________________________________________________________________________________________\n",
      "media_id (InputLayer)        [(None, 1)]        0                                       \n",
      "________________________________________________________________________________________\n",
      "user_embedding (Embedding)   (None, 1, 8)       157768    user_id[0][0]                 \n",
      "________________________________________________________________________________________\n",
      "media_embedding (Embedding)  (None, 1, 8)       109678532 media_id[0][0]                \n",
      "________________________________________________________________________________________\n",
      "concatenate (Concatenate)    (None, 1, 16)      0         user_embedding[0][0]          \n",
      "                                                          media_embedding[0][0]         \n",
      "________________________________________________________________________________________\n",
      "flatten (Flatten)            (None, 16)         0         concatenate[0][0]             \n",
      "________________________________________________________________________________________\n",
      "dense (Dense)                (None, 12)         204       flatten[0][0]                 \n",
      "________________________________________________________________________________________\n",
      "dense_1 (Dense)              (None, 4)          52        dense[0][0]                   \n",
      "________________________________________________________________________________________\n",
      "prediction (Dense)           (None, 1)          5         dense_1[0][0]                 \n",
      "========================================================================================\n",
      "Total params: 1,096,943,349\n",
      "Trainable params: 1,096,943,349\n",
      "Non-trainable params: 0\n",
      "________________________________________________________________________________________\n"
     ]
    }
   ],
   "source": [
    "# Set size of hidden units and embeeding size\n",
    "hidden_units = (12,4)\n",
    "media_embedding_size = 8\n",
    "user_embedding_size = 8\n",
    "\n",
    "# Each instance will consist of two inputs: a single user id, and a single movie id\n",
    "user_id_input = keras.Input(shape=(1,), name='user_id')\n",
    "media_id_input = keras.Input(shape=(1,), name='media_id')\n",
    "\n",
    "# Create embedding layers for users and media\n",
    "user_embedded = keras.layers.Embedding(df1.user_id.max()+1, user_embedding_size, \n",
    "                                       input_length=1, name='user_embedding')(user_id_input)\n",
    "media_embedded = keras.layers.Embedding(df1.media_id.max()+1, media_embedding_size, \n",
    "                                        input_length=1, name='media_embedding')(media_id_input)\n",
    "\n",
    "# Concatenate the embeddings (and remove the useless extra dimension)\n",
    "concatenated = keras.layers.Concatenate()([user_embedded, media_embedded])\n",
    "out = keras.layers.Flatten()(concatenated)\n",
    "\n",
    "# Add hidden layers\n",
    "for n_hidden in hidden_units:\n",
    "    out = keras.layers.Dense(n_hidden, activation='relu')(out)\n",
    "\n",
    "# Output layer\n",
    "out = keras.layers.Dense(1, activation='sigmoid', name='prediction')(out)\n",
    "\n",
    "# Create the model\n",
    "model = keras.Model(\n",
    "    inputs = [user_id_input, media_id_input],\n",
    "    outputs = out, name=\"Model_01\"\n",
    ")\n",
    "\n",
    "# Compile the model\n",
    "model.compile(loss='binary_crossentropy',optimizer='adam',metrics=['accuracy'])\n",
    "# Show summary\n",
    "model.summary(line_length=88)"
   ]
  },
  {
   "cell_type": "code",
   "execution_count": 47,
   "id": "ac8da2f7",
   "metadata": {},
   "outputs": [],
   "source": [
    "#utils.plot_model(model, to_file='model.png', show_shapes=True, show_layer_names=True)\n",
    "#keras.utils.plot_model(model, \"model_1.png\", show_shapes=True)"
   ]
  },
  {
   "cell_type": "code",
   "execution_count": 96,
   "id": "1e7e9d88",
   "metadata": {},
   "outputs": [
    {
     "name": "stdout",
     "output_type": "stream",
     "text": [
      "Epoch 1/15\n",
      "13/13 [==============================] - 992s 77s/step - loss: 0.6886 - accuracy: 0.6579\n",
      "Epoch 2/15\n",
      "13/13 [==============================] - 1323s 103s/step - loss: 0.6758 - accuracy: 0.6821\n",
      "Epoch 3/15\n",
      "13/13 [==============================] - 1086s 84s/step - loss: 0.6611 - accuracy: 0.6821\n",
      "Epoch 4/15\n",
      "13/13 [==============================] - 1197s 93s/step - loss: 0.6454 - accuracy: 0.6821\n",
      "Epoch 5/15\n",
      "13/13 [==============================] - 1127s 86s/step - loss: 0.6280 - accuracy: 0.6821\n",
      "Epoch 6/15\n",
      "13/13 [==============================] - 1210s 94s/step - loss: 0.6080 - accuracy: 0.6821\n",
      "Epoch 7/15\n",
      "13/13 [==============================] - 1228s 95s/step - loss: 0.5839 - accuracy: 0.6835\n",
      "Epoch 8/15\n",
      "13/13 [==============================] - 1173s 90s/step - loss: 0.5544 - accuracy: 0.7114\n",
      "Epoch 9/15\n",
      "13/13 [==============================] - 1093s 82s/step - loss: 0.5219 - accuracy: 0.7734\n",
      "Epoch 10/15\n",
      "13/13 [==============================] - 1159s 90s/step - loss: 0.4894 - accuracy: 0.8111\n",
      "Epoch 11/15\n",
      "13/13 [==============================] - 1308s 98s/step - loss: 0.4583 - accuracy: 0.8336\n",
      "Epoch 12/15\n",
      "13/13 [==============================] - 1055s 80s/step - loss: 0.4292 - accuracy: 0.8489\n",
      "Epoch 13/15\n",
      "13/13 [==============================] - 1059s 82s/step - loss: 0.4024 - accuracy: 0.8624\n",
      "Epoch 14/15\n",
      "13/13 [==============================] - 1409s 108s/step - loss: 0.3779 - accuracy: 0.8721\n",
      "Epoch 15/15\n",
      "13/13 [==============================] - 924s 69s/step - loss: 0.3556 - accuracy: 0.8799\n"
     ]
    }
   ],
   "source": [
    "# Fit the model - First Fit\n",
    "history = model.fit([train.user_id, train.media_id],\n",
    "          train.is_listened,\n",
    "          epochs=15,  batch_size=5000)"
   ]
  },
  {
   "cell_type": "code",
   "execution_count": 121,
   "id": "380cf6f9",
   "metadata": {},
   "outputs": [
    {
     "name": "stdout",
     "output_type": "stream",
     "text": [
      "473/473 [==============================] - 0s 916us/step - loss: 0.5805 - accuracy: 0.6992\n"
     ]
    }
   ],
   "source": [
    "# Evaluate the \n",
    "x = model.evaluate([test.user_id, test.media_id],\n",
    "          test.is_listened, verbose=True)"
   ]
  },
  {
   "cell_type": "code",
   "execution_count": 110,
   "id": "3893f720",
   "metadata": {},
   "outputs": [],
   "source": [
    "# Save Model\n",
    "#model.save('Model_Keras_Lek',save_format='tf')\n",
    "# Save the model - equivalent to: model.save(\"model.h5\")\n",
    "from tensorflow.keras.models import save_model\n",
    "save_model(model, \"modelcoll1.hd\")"
   ]
  },
  {
   "cell_type": "code",
   "execution_count": 10,
   "id": "6afc88e7",
   "metadata": {},
   "outputs": [],
   "source": [
    "# Predict the collaborative model on a new validation set\n",
    "df3 = df1\n",
    "from sklearn.model_selection import train_test_split\n",
    "train2, test2 = train_test_split(df3, test_size=0.2, random_state=77)\n",
    "\n"
   ]
  },
  {
   "cell_type": "code",
   "execution_count": 11,
   "id": "2f7feba9",
   "metadata": {},
   "outputs": [],
   "source": [
    "yhat_1 = model.predict([test2.user_id, test2.media_id])\n",
    "yhat_1"
   ]
  },
  {
   "cell_type": "code",
   "execution_count": 15,
   "id": "f2d8ea93",
   "metadata": {},
   "outputs": [
    {
     "name": "stdout",
     "output_type": "stream",
     "text": [
      "Classification Report\n",
      "              precision    recall  f1-score   support\n",
      "\n",
      "           0       0.32      0.26      0.29      4753\n",
      "           1       0.69      0.75      0.72     10365\n",
      "\n",
      "    accuracy                           0.60     15118\n",
      "   macro avg       0.51      0.50      0.50     15118\n",
      "weighted avg       0.57      0.60      0.58     15118\n",
      "\n",
      "Accuracy : 0.5967720597962693\n"
     ]
    },
    {
     "data": {
      "image/png": "[encoded data removed]",
      "text/plain": [
       "<Figure size 432x288 with 1 Axes>"
      ]
     },
     "metadata": {
      "needs_background": "light"
     },
     "output_type": "display_data"
    }
   ],
   "source": [
    "def c_report(y_true, y_pred):\n",
    "   print(\"Classification Report\")\n",
    "   print(classification_report(y_true, y_pred))\n",
    "   acc_sc = accuracy_score(y_true, y_pred)\n",
    "   print(\"Accuracy : \"+ str(acc_sc))\n",
    "   return acc_sc\n",
    "\n",
    "def plot_confusion_matrix(y_true, y_pred):\n",
    "   mtx = confusion_matrix(y_true, y_pred)\n",
    "   sns.heatmap(mtx, annot=True, fmt='d', linewidths=.5, \n",
    "               cmap=\"Blues\", cbar=False)\n",
    "   plt.ylabel('True label')\n",
    "   plt.xlabel('Predicted label')\n",
    "    \n",
    "preds = (model.predict([test2.user_id, test2.media_id]) > 0.5).astype(\"int32\")\n",
    "c_report(test2.is_listened, preds)\n",
    "plot_confusion_matrix(test2.is_listened, preds)"
   ]
  },
  {
   "cell_type": "code",
   "execution_count": 101,
   "id": "bd8631bd",
   "metadata": {},
   "outputs": [
    {
     "name": "stdout",
     "output_type": "stream",
     "text": [
      "dict_keys(['loss', 'accuracy'])\n"
     ]
    },
    {
     "data": {
      "image/png": "[encoded data removed]",
      "text/plain": [
       "<Figure size 432x288 with 1 Axes>"
      ]
     },
     "metadata": {
      "needs_background": "light"
     },
     "output_type": "display_data"
    },
    {
     "data": {
      "image/png": "[encoded data removed]",
      "text/plain": [
       "<Figure size 432x288 with 1 Axes>"
      ]
     },
     "metadata": {
      "needs_background": "light"
     },
     "output_type": "display_data"
    }
   ],
   "source": [
    "# Visualise training loos and accuracy\n",
    "\n",
    "\n",
    "# list all data in history\n",
    "print(history.history.keys())\n",
    "# summarize history for accuracy\n",
    "plt.plot(history.history['accuracy'])\n",
    "#plt.plot(history.history['val_accuracy'])\n",
    "plt.title('model accuracy')\n",
    "plt.ylabel('accuracy')\n",
    "plt.xlabel('epoch')\n",
    "plt.legend(['train', 'test'], loc='upper left')\n",
    "plt.show()\n",
    "# summarize history for loss\n",
    "plt.plot(history.history['loss'])\n",
    "#plt.plot(history.history['val_loss'])\n",
    "plt.title('model loss')\n",
    "plt.ylabel('loss')\n",
    "plt.xlabel('epoch')\n",
    "plt.legend(['train', 'test'], loc='upper left')\n",
    "plt.show()"
   ]
  },
  {
   "cell_type": "markdown",
   "id": "35324478",
   "metadata": {},
   "source": [
    "\n",
    "## Baseline Model 2: Hybrid"
   ]
  },
  {
   "cell_type": "code",
   "execution_count": 9,
   "id": "0b44e03b",
   "metadata": {},
   "outputs": [
    {
     "name": "stdout",
     "output_type": "stream",
     "text": [
      "Model: \"Hybrid_Model\"\n",
      "__________________________________________________________________________________________________\n",
      "Layer (type)                    Output Shape         Param #     Connected to                     \n",
      "==================================================================================================\n",
      "user_id (InputLayer)            [(None, 1)]          0                                            \n",
      "__________________________________________________________________________________________________\n",
      "media_id (InputLayer)           [(None, 1)]          0                                            \n",
      "__________________________________________________________________________________________________\n",
      "user_embedding (Embedding)      (None, 1, 12)        237672      user_id[0][0]                    \n",
      "__________________________________________________________________________________________________\n",
      "media_embedding (Embedding)     (None, 1, 12)        1645177932  media_id[0][0]                   \n",
      "__________________________________________________________________________________________________\n",
      "concatenate (Concatenate)       (None, 1, 24)        0           user_embedding[0][0]             \n",
      "                                                                 media_embedding[0][0]            \n",
      "__________________________________________________________________________________________________\n",
      "flatten (Flatten)               (None, 24)           0           concatenate[0][0]                \n",
      "__________________________________________________________________________________________________\n",
      "dense (Dense)                   (None, 12)           300         flatten[0][0]                    \n",
      "__________________________________________________________________________________________________\n",
      "context_type (InputLayer)       [(None, 1)]          0                                            \n",
      "__________________________________________________________________________________________________\n",
      "dense_1 (Dense)                 (None, 4)            52          dense[0][0]                      \n",
      "__________________________________________________________________________________________________\n",
      "context_dense (Dense)           (None, 75588)        151176      context_type[0][0]               \n",
      "__________________________________________________________________________________________________\n",
      "concatenate_1 (Concatenate)     (None, 75592)        0           dense_1[0][0]                    \n",
      "                                                                 context_dense[0][0]              \n",
      "__________________________________________________________________________________________________\n",
      "y_out (Dense)                   (None, 1)            75593       concatenate_1[0][0]              \n",
      "==================================================================================================\n",
      "Total params: 1,645,642,725\n",
      "Trainable params: 1,645,642,725\n",
      "Non-trainable params: 0\n",
      "__________________________________________________________________________________________________\n"
     ]
    }
   ],
   "source": [
    "hidden_units = (12,4)\n",
    "media_embedding_size = 12\n",
    "user_embedding_size = 12\n",
    "context_embedding_size = 10\n",
    "#context_embedding_size = 30\n",
    "\n",
    "########################################## Neural Network - COLLABORATIVE FILTERING ###################################################\n",
    "# Input layer\n",
    "\n",
    "# Create Input layers: Each instance will consist of three inputs: a single user id and a single movie id \n",
    "user_id_input = keras.Input(shape=(1,), name='user_id')\n",
    "media_id_input = keras.Input(shape=(1,), name='media_id')\n",
    "\n",
    "\n",
    "# Create embedding layers for users, movies and context\n",
    "user_embedded = keras.layers.Embedding(df1.user_id.max()+1, user_embedding_size, \n",
    "                                       input_length=1, name='user_embedding')(user_id_input)\n",
    "media_embedded = keras.layers.Embedding(df1.media_id.max()+1, media_embedding_size, \n",
    "                                        input_length=1, name='media_embedding')(media_id_input)\n",
    "\n",
    "\n",
    "# Concatenate the embeddings (and remove the useless extra dimension)\n",
    "concatenated_a = keras.layers.Concatenate()([user_embedded, media_embedded])\n",
    "user_media_out = keras.layers.Flatten()(concatenated_a)\n",
    "\n",
    "# Add hidden layers\n",
    "for n_hidden in hidden_units:\n",
    "    user_media_out = keras.layers.Dense(n_hidden, activation='relu')(user_media_out)\n",
    "\n",
    "\n",
    "\n",
    "########################################## Context Type ###################################################\n",
    "context = df1[[\"context_type\"]]\n",
    "ctx = len(context)\n",
    "\n",
    "#Input Layer\n",
    "context_input = keras.Input(shape=(1,), name='context_type')\n",
    "#Embeeding Layer\n",
    "context_embedded = keras.layers.Embedding(ctx, context_embedding_size, \n",
    "                                        input_length=1, name='context_embedding')(context_input)\n",
    "#Dense Layer\n",
    "context_x = layers.Dense(name=\"context_dense\", units=ctx, activation='relu')(context_input)\n",
    "\n",
    "\n",
    "########################################## Hyprid Output  ###################################################\n",
    "# Merge all\n",
    "y_out = layers.Concatenate()([user_media_out, context_x])\n",
    "y_out = layers.Dense(name=\"y_out\", units=1, activation='sigmoid')(y_out)\n",
    "\n",
    "# Create the model\n",
    "model = keras.Model(\n",
    "    inputs = [user_id_input, media_id_input, context_input],\n",
    "    outputs = y_out, name=\"Hybrid_Model\")\n",
    "\n",
    "\n",
    "# Complie\n",
    "\n",
    "#model.compile(loss='binary_crossentropy',optimizer='adam',metrics=['accuracy'])\n",
    "# --> treshold is 0.5 -> wether the metrics accuracy or binary_arccuracy is taken does not matter as\n",
    "# Keras convert accuracy into \"binary_accuracy\" (Source: https://stackoverflow.com/questions/65361359/why-the-accuracy-and-binary-accuracy-in-keras-have-same-result)\n",
    "\n",
    "model.compile(optimizer='adam', loss='binary_crossentropy', metrics=['accuracy'])\n",
    "model.summary()\n"
   ]
  },
  {
   "cell_type": "code",
   "execution_count": null,
   "id": "352badee",
   "metadata": {},
   "outputs": [],
   "source": [
    "#utils.plot_model(model, to_file='model.png', show_shapes=True, show_layer_names=True)\n",
    "#keras.utils.plot_model(model, \"model_1.png\", show_shapes=True)"
   ]
  },
  {
   "cell_type": "code",
   "execution_count": 16,
   "id": "14f80e61",
   "metadata": {},
   "outputs": [
    {
     "name": "stdout",
     "output_type": "stream",
     "text": [
      "Epoch 1/15\n",
      "1/1 [==============================] - 137s 137s/step - loss: 0.6459 - accuracy: 0.6942\n",
      "Epoch 2/15\n",
      "1/1 [==============================] - 134s 134s/step - loss: 0.6615 - accuracy: 0.6508\n",
      "Epoch 3/15\n",
      "1/1 [==============================] - 124s 124s/step - loss: 0.6352 - accuracy: 0.6963\n",
      "Epoch 4/15\n",
      "1/1 [==============================] - 137s 137s/step - loss: 0.6161 - accuracy: 0.6963\n",
      "Epoch 5/15\n",
      "1/1 [==============================] - 132s 132s/step - loss: 0.6189 - accuracy: 0.6963\n",
      "Epoch 6/15\n",
      "1/1 [==============================] - 114s 114s/step - loss: 0.6283 - accuracy: 0.6963\n",
      "Epoch 7/15\n",
      "1/1 [==============================] - 119s 119s/step - loss: 0.6338 - accuracy: 0.6963\n",
      "Epoch 8/15\n",
      "1/1 [==============================] - 112s 112s/step - loss: 0.6319 - accuracy: 0.6963\n",
      "Epoch 9/15\n",
      "1/1 [==============================] - 113s 113s/step - loss: 0.6242 - accuracy: 0.6963\n",
      "Epoch 10/15\n",
      "1/1 [==============================] - 121s 121s/step - loss: 0.6157 - accuracy: 0.6963\n",
      "Epoch 11/15\n",
      "1/1 [==============================] - 124s 124s/step - loss: 0.6120 - accuracy: 0.6963\n",
      "Epoch 12/15\n",
      "1/1 [==============================] - 124s 124s/step - loss: 0.6159 - accuracy: 0.6963\n",
      "Epoch 13/15\n",
      "1/1 [==============================] - 119s 119s/step - loss: 0.6217 - accuracy: 0.6963\n",
      "Epoch 14/15\n",
      "1/1 [==============================] - 130s 130s/step - loss: 0.6216 - accuracy: 0.6963\n",
      "Epoch 15/15\n",
      "1/1 [==============================] - 125s 125s/step - loss: 0.6163 - accuracy: 0.6963\n"
     ]
    }
   ],
   "source": [
    "# Fit the hyprid model - First Fit\n",
    "# Remark: In order to reduce computational power, number of epochs is limited to 15, and batch_size is quite high\n",
    "# with 50000. This influence the slow decrease in lose and increase in accuracy\n",
    "history = model.fit([train.user_id, train.media_id, train.context_type],\n",
    "          train.is_listened,\n",
    "          epochs=15,  batch_size=5000)"
   ]
  },
  {
   "cell_type": "code",
   "execution_count": 17,
   "id": "d0f53007",
   "metadata": {},
   "outputs": [
    {
     "name": "stdout",
     "output_type": "stream",
     "text": [
      "4/4 [==============================] - 1s 33ms/step - loss: 0.6958 - accuracy: 0.5950\n"
     ]
    }
   ],
   "source": [
    "# Evaluate the hyprid model\n",
    "y = model.evaluate([test.user_id, test.media_id, test.context_type],\n",
    "          test.is_listened, verbose=True)\n",
    "\n",
    "#loss, accuracy = model.evaluate([test.user_id, test.media_id, test.context_type], test.is_listened, verbose=True)"
   ]
  },
  {
   "cell_type": "code",
   "execution_count": 18,
   "id": "3c7d4573",
   "metadata": {},
   "outputs": [
    {
     "name": "stdout",
     "output_type": "stream",
     "text": [
      "dict_keys(['loss', 'accuracy'])\n"
     ]
    },
    {
     "data": {
      "image/png": "[encoded data removed]",
      "text/plain": [
       "<Figure size 432x288 with 1 Axes>"
      ]
     },
     "metadata": {
      "needs_background": "light"
     },
     "output_type": "display_data"
    },
    {
     "data": {
      "image/png": "[encoded data removed]",
      "text/plain": [
       "<Figure size 432x288 with 1 Axes>"
      ]
     },
     "metadata": {
      "needs_background": "light"
     },
     "output_type": "display_data"
    }
   ],
   "source": [
    "# Visualise training loos and accuracy\n",
    "\n",
    "# list all data in history\n",
    "print(history.history.keys())\n",
    "# summarize history for accuracy\n",
    "plt.plot(history.history['accuracy'])\n",
    "#plt.plot(history.history['val_accuracy'])\n",
    "plt.title('model accuracy')\n",
    "plt.ylabel('accuracy')\n",
    "plt.xlabel('epoch')\n",
    "plt.legend(['train', 'test'], loc='upper left')\n",
    "plt.show()\n",
    "# summarize history for loss\n",
    "plt.plot(history.history['loss'])\n",
    "#plt.plot(history.history['val_loss'])\n",
    "plt.title('model loss')\n",
    "plt.ylabel('loss')\n",
    "plt.xlabel('epoch')\n",
    "plt.legend(['train', 'test'], loc='upper left')\n",
    "plt.show()"
   ]
  },
  {
   "cell_type": "code",
   "execution_count": null,
   "id": "a0d8ab86",
   "metadata": {},
   "outputs": [],
   "source": [
    "# Save the model - equivalent to: model.save(\"model.h5\")\n",
    "from tensorflow.keras.models import save_model\n",
    "save_model(model, \"modelhyprid1.h5\")"
   ]
  },
  {
   "cell_type": "code",
   "execution_count": 20,
   "id": "62b1c68f",
   "metadata": {},
   "outputs": [],
   "source": [
    "# Predict the hyprid model on a new validation set\n",
    "df4 = df1\n",
    "from sklearn.model_selection import train_test_split\n",
    "train3, test3 = train_test_split(df4, test_size=0.2, random_state=99)\n",
    "\n",
    "yhat_2 = model.predict([test3.user_id, test3.media_id, test3.context_type])"
   ]
  },
  {
   "cell_type": "code",
   "execution_count": 26,
   "id": "a964add9",
   "metadata": {},
   "outputs": [
    {
     "name": "stdout",
     "output_type": "stream",
     "text": [
      "Classification Report\n",
      "              precision    recall  f1-score   support\n",
      "\n",
      "           0       0.00      0.00      0.00        35\n",
      "           1       0.71      1.00      0.83        86\n",
      "\n",
      "    accuracy                           0.71       121\n",
      "   macro avg       0.36      0.50      0.42       121\n",
      "weighted avg       0.51      0.71      0.59       121\n",
      "\n",
      "Accuracy : 0.7107438016528925\n"
     ]
    },
    {
     "data": {
      "image/png": "[encoded data removed]",
      "text/plain": [
       "<Figure size 432x288 with 1 Axes>"
      ]
     },
     "metadata": {
      "needs_background": "light"
     },
     "output_type": "display_data"
    }
   ],
   "source": [
    "def c_report(y_true, y_pred):\n",
    "   print(\"Classification Report\")\n",
    "   print(classification_report(y_true, y_pred))\n",
    "   acc_sc = accuracy_score(y_true, y_pred)\n",
    "   print(\"Accuracy : \"+ str(acc_sc))\n",
    "   return acc_sc\n",
    "\n",
    "def plot_confusion_matrix(y_true, y_pred):\n",
    "   mtx = confusion_matrix(y_true, y_pred)\n",
    "   sns.heatmap(mtx, annot=True, fmt='d', linewidths=.5, \n",
    "               cmap=\"Blues\", cbar=False)\n",
    "   plt.ylabel('True label')\n",
    "   plt.xlabel('Predicted label')\n",
    "    \n",
    "preds = (model.predict([test3.user_id, test3.media_id,test3.context_type]) > 0.5).astype(\"int32\") \n",
    "\n",
    "c_report(test3.is_listened, preds)\n",
    "plot_confusion_matrix(test3.is_listened, preds)"
   ]
  },
  {
   "cell_type": "markdown",
   "id": "afaea7d1",
   "metadata": {},
   "source": [
    "## Comparision and Conclusion"
   ]
  },
  {
   "cell_type": "markdown",
   "id": "4c7bea3c",
   "metadata": {},
   "source": [
    "Both baselinemodels could be improved in a number of ways. The outcome of this first models can hardly influence Deezers business in an reliable way. Through variable preprocessing and (auomated) hyperparemetertuning, the models can be improved in the next steps. "
   ]
  }
 ],
 "metadata": {
  "kernelspec": {
   "display_name": "Python 3 (ipykernel)",
   "language": "python",
   "name": "python3"
  },
  "language_info": {
   "codemirror_mode": {
    "name": "ipython",
    "version": 3
   },
   "file_extension": ".py",
   "mimetype": "text/x-python",
   "name": "python",
   "nbconvert_exporter": "python",
   "pygments_lexer": "ipython3",
   "version": "3.10.9"
  },
  "nbTranslate": {
   "displayLangs": [
    "*"
   ],
   "hotkey": "alt-t",
   "langInMainMenu": true,
   "sourceLang": "en",
   "targetLang": "fr",
   "useGoogleTranslate": true
  },
  "toc": {
   "base_numbering": 1,
   "nav_menu": {},
   "number_sections": true,
   "sideBar": true,
   "skip_h1_title": false,
   "title_cell": "Table of Contents",
   "title_sidebar": "Contents",
   "toc_cell": false,
   "toc_position": {},
   "toc_section_display": true,
   "toc_window_display": true
  }
 },
 "nbformat": 4,
 "nbformat_minor": 5
}
